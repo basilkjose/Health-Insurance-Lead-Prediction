{
 "cells": [
  {
   "cell_type": "code",
   "execution_count": null,
   "id": "proof-crash",
   "metadata": {
    "colab": {
     "base_uri": "https://localhost:8080/"
    },
    "id": "proof-crash",
    "outputId": "e36d925a-2b6c-42d0-ca32-0814cb9948a8"
   },
   "outputs": [],
   "source": [
    "# importing the all the necessary libraries\n",
    "import pandas as pd\n",
    "import numpy as np\n",
    "from itertools import combinations\n",
    "\n",
    "from sklearn.preprocessing import LabelEncoder \n",
    "\n",
    "from sklearn.model_selection import train_test_split\n",
    "from xgboost import XGBClassifier\n",
    "from catboost import CatBoostClassifier\n",
    "\n",
    "from sklearn.metrics import roc_curve\n",
    "import matplotlib.pyplot as plt\n",
    "\n",
    "import pickle \n",
    "from sklearn.externals import joblib \n",
    "\n",
    "import warnings\n",
    "warnings.filterwarnings(\"ignore\")"
   ]
  },
  {
   "cell_type": "markdown",
   "id": "invalid-technique",
   "metadata": {},
   "source": [
    " FINAL PIPE LINE FOR XGB CLASSIFIER ALGORITHM"
   ]
  },
  {
   "cell_type": "code",
   "execution_count": 2,
   "id": "administrative-jaguar",
   "metadata": {
    "id": "administrative-jaguar"
   },
   "outputs": [],
   "source": [
    "#MISSING VALUE IMPUTATION\n",
    "def missing_value(df):\n",
    "    df['Health Indicator'].fillna(\"X0\", inplace=True)\n",
    "    df['Holding_Policy_Type'].fillna(0, inplace=True)\n",
    "    df['Holding_Policy_Duration'].fillna(\"not\", inplace=True)\n",
    "    return df"
   ]
  },
  {
   "cell_type": "code",
   "execution_count": 3,
   "id": "refined-democrat",
   "metadata": {
    "id": "refined-democrat"
   },
   "outputs": [],
   "source": [
    "def frequency_encoding(column_name,output_column_name,df):\n",
    "    \"\"\" Frequency enoding for each categories in categorical features \"\"\"\n",
    "    fe_pol = (df.groupby(column_name).size()) / len(df)\n",
    "    df[output_column_name] = df[column_name].apply(lambda x : fe_pol[x])"
   ]
  },
  {
   "cell_type": "code",
   "execution_count": 5,
   "id": "german-sheffield",
   "metadata": {
    "id": "german-sheffield"
   },
   "outputs": [],
   "source": [
    "def feature_engineering(df):\n",
    "    cat_features=[]\n",
    "    \n",
    "    #Interaction Feature (Combining 2 categorical features and performing frequency encoding)\n",
    "    \n",
    "    columns=['City_Code','Accomodation_Type','Reco_Insurance_Type','Health Indicator',\n",
    "             'Is_Spouse','Region_Code','Holding_Policy_Type','Reco_Policy_Cat']\n",
    "\n",
    "    comb = combinations(columns, 2) \n",
    "\n",
    "    for i in list(comb):  \n",
    "        df[f'{i[0]}_{i[1]}']=df[i[0]].astype(str)+'_'+df[i[1]].astype(str)\n",
    "        frequency_encoding(f'{i[0]}_{i[1]}',f'{i[0]}_{i[1]}',df)\n",
    "        cat_features.append(f'{i[0]}_{i[1]}')\n",
    "    \n",
    "    #Frequency Encoding\n",
    "    \n",
    "    frequency_encoding('City_Code','City_Code_fe',df)\n",
    "    frequency_encoding('Region_Code','Region_Code_fe',df)\n",
    "    frequency_encoding('Holding_Policy_Duration','Holding_Policy_Duration',df)\n",
    "    frequency_encoding('Holding_Policy_Type','Holding_Policy_Type_fe',df)\n",
    "    frequency_encoding('Health Indicator','Health_Indicator_fe',df)\n",
    "    \n",
    "    #Deriving characteristics of each city by creating aggregate features\n",
    "    \n",
    "    city_aggregate_features = df.groupby(['City_Code']).agg({'Lower_Age': ['mean', 'max', 'min','std'],\n",
    "                                                     'Reco_Policy_Premium': ['mean', 'max', 'min','std','sum'], \n",
    "                                                     'Region_Code': ['nunique','count'], \n",
    "                                                     'Accomodation_Type': ['nunique','count'],\n",
    "                                                     'Reco_Insurance_Type': ['nunique','count'] ,\n",
    "                                                     'Health Indicator': ['nunique','count'] ,\n",
    "                                                     'Holding_Policy_Type': ['nunique','count'] ,\n",
    "                                                     'Reco_Policy_Cat': ['nunique','count'] ,\n",
    "                                                     })\n",
    "    city_aggregate_features.columns = ['city_aggregate_features' + '_'.join(c).strip('_') for c in city_aggregate_features.columns]\n",
    "    df = pd.merge(df, city_aggregate_features, on = ['City_Code'], how='left')\n",
    "\n",
    "    #Deriving characteristics of each city and region combined by creating aggregate features\n",
    "    \n",
    "    city_region_aggregate_features = df.groupby(['City_Code','Region_Code']).agg({'Lower_Age': ['mean', 'max', 'min','std'],\n",
    "                                                     'Reco_Policy_Premium': ['mean', 'max', 'min','std','sum'],  \n",
    "                                                     'Accomodation_Type': ['nunique','count'],\n",
    "                                                     'Reco_Insurance_Type': ['nunique','count'] ,\n",
    "                                                     'Health Indicator': ['nunique','count'] ,\n",
    "                                                     'Holding_Policy_Type': ['nunique','count'] ,\n",
    "                                                     'Reco_Policy_Cat': ['nunique','count'] ,\n",
    "                                                     })\n",
    "    city_region_aggregate_features.columns = ['city_region_aggregate_features' + '_'.join(c).strip('_') for c in city_region_aggregate_features.columns]\n",
    "    df = pd.merge(df, city_region_aggregate_features, on = ['City_Code','Region_Code'], how='left')\n",
    "\n",
    "     #Deriving characteristics of each city and Recommended policy category combined by creating aggregate features\n",
    "        \n",
    "    city_recopolicycat_aggregate_features = df.groupby(['City_Code','Reco_Policy_Cat']).agg({'Lower_Age': ['mean', 'max', 'min','std'],\n",
    "                                                     'Reco_Policy_Premium': ['mean', 'max', 'min','std','sum'], \n",
    "                                                     'Region_Code': ['nunique','count'], \n",
    "                                                     'Accomodation_Type': ['nunique','count'],\n",
    "                                                     'Reco_Insurance_Type': ['nunique','count'] ,\n",
    "                                                     'Health Indicator': ['nunique','count'] ,\n",
    "                                                     'Holding_Policy_Type': ['nunique','count'] \n",
    "                                                     })\n",
    "    city_recopolicycat_aggregate_features.columns = ['city_recopolicycat_aggregate_features' + '_'.join(c).strip('_') for c in city_recopolicycat_aggregate_features.columns]\n",
    "    df = pd.merge(df, city_recopolicycat_aggregate_features, on = ['City_Code','Reco_Policy_Cat'], how='left')\n",
    "    \n",
    "     #Deriving characteristics of each city and Region_Code_Reco_Policy_Cat(interaction feature) combined by creating aggregate features\n",
    "        \n",
    "    city_regioncoderecopolicycat_aggregate_features = df.groupby(['City_Code','Region_Code_Reco_Policy_Cat']).agg({'Lower_Age': ['mean', 'max', 'min','std'],\n",
    "                                                     'Reco_Policy_Premium': ['mean', 'max', 'min','std','sum'], \n",
    "                                                     'Region_Code': ['nunique','count'], \n",
    "                                                     'Accomodation_Type': ['nunique','count'],\n",
    "                                                     'Reco_Insurance_Type': ['nunique','count'] ,\n",
    "                                                     'Health Indicator': ['nunique','count'] ,\n",
    "                                                     'Holding_Policy_Type': ['nunique','count'] ,\n",
    "                                                     'Reco_Policy_Cat': ['nunique','count'] ,\n",
    "                                                     })\n",
    "\n",
    "    city_regioncoderecopolicycat_aggregate_features.columns = ['city_regioncoderecopolicycat_aggregate_features' + '_'.join(c).strip('_') for c in city_regioncoderecopolicycat_aggregate_features.columns]\n",
    "    df = pd.merge(df, city_regioncoderecopolicycat_aggregate_features, on = ['City_Code','Region_Code_Reco_Policy_Cat'], how='left')\n",
    "    \n",
    "    #Deriving characteristics of Holding_Policy_Type by creating aggregate features\n",
    "    \n",
    "    holdingpolicytype_aggregate_features = df.groupby(['Holding_Policy_Type']).agg({'Lower_Age': ['mean', 'max', 'min','std'],\n",
    "                                                     'Reco_Policy_Premium': ['mean', 'max', 'min','std','sum'], \n",
    "                                                     'Region_Code': ['nunique','count'], \n",
    "                                                     'Accomodation_Type': ['nunique','count'],\n",
    "                                                     'Reco_Insurance_Type': ['nunique','count'] ,\n",
    "                                                     'Health Indicator': ['nunique','count'] ,\n",
    "                                                     'City_Code': ['nunique','count'] ,\n",
    "                                                     })\n",
    "    holdingpolicytype_aggregate_features.columns = ['holdingpolicytype_aggregate_features' + '_'.join(c).strip('_') for c in holdingpolicytype_aggregate_features.columns]\n",
    "    df = pd.merge(df, holdingpolicytype_aggregate_features, on = ['Holding_Policy_Type'], how='left')\n",
    "    \n",
    "    #Deriving characteristics of Health Indicator by creating aggregate features\n",
    "    \n",
    "    Health_Indicator_aggregate_features = df.groupby(['Health Indicator']).agg({'Lower_Age': ['mean', 'max', 'min','std'],\n",
    "                                                     'Reco_Policy_Premium': ['mean', 'max', 'min','std','sum'],  \n",
    "                                                     'Region_Code': ['nunique','count'], \n",
    "                                                     'Reco_Insurance_Type': ['nunique','count'] ,\n",
    "                                                     'Accomodation_Type': ['nunique','count'],\n",
    "                                                     'Holding_Policy_Type': ['nunique','count'] ,\n",
    "                                                     'City_Code': ['nunique','count'] ,\n",
    "                                                     })\n",
    "    Health_Indicator_aggregate_features.columns = ['Health_Indicator_aggregate_features' + '_'.join(c).strip('_') for c in Health_Indicator_aggregate_features.columns]\n",
    "    df = pd.merge(df, Health_Indicator_aggregate_features, on = ['Health Indicator'], how='left')\n",
    "    \n",
    "    for i in cat_features:\n",
    "        df[f'city_{i}_max']=df.groupby('City_Code')[i].transform('max')\n",
    "        df[f'city_{i}_min']=df.groupby('City_Code')[i].transform('min')\n",
    "        df[f'city_{i}_mean']=df.groupby('City_Code')[i].transform('mean')\n",
    "        df[f'city_{i}_std']=df.groupby('City_Code')[i].transform('std')\n",
    "\n",
    "    \n",
    "        df[f'city_region_{i}_max']=df.groupby(['City_Code','Region_Code'])[i].transform('max')\n",
    "        df[f'city_region_{i}_min']=df.groupby(['City_Code','Region_Code'])[i].transform('min')\n",
    "        df[f'city_region_{i}_mean']=df.groupby(['City_Code','Region_Code'])[i].transform('mean')\n",
    "        df[f'city_region_{i}_std']=df.groupby(['City_Code','Region_Code'])[i].transform('std')\n",
    "\n",
    "    \n",
    "        df[f'city_recopolicycat_{i}_max']=df.groupby(['City_Code','Reco_Policy_Cat'])[i].transform('max')\n",
    "        df[f'city_recopolicycat_{i}_min']=df.groupby(['City_Code','Reco_Policy_Cat'])[i].transform('min')\n",
    "        df[f'city_recopolicycat_{i}_mean']=df.groupby(['City_Code','Reco_Policy_Cat'])[i].transform('mean')\n",
    "        df[f'city_recopolicycat_{i}_std']=df.groupby(['City_Code','Reco_Policy_Cat'])[i].transform('std')\n",
    "        \n",
    "    return df\n"
   ]
  },
  {
   "cell_type": "code",
   "execution_count": 7,
   "id": "wooden-pearl",
   "metadata": {
    "id": "wooden-pearl"
   },
   "outputs": [],
   "source": [
    "def label_encoder(df):\n",
    "    \"\"\" Label encoding for categorical features\"\"\"\n",
    "    le = LabelEncoder()\n",
    "    for col in ['City_Code','Accomodation_Type','Reco_Insurance_Type','Health Indicator','Is_Spouse','Holding_Policy_Duration','Holding_Policy_Type','Reco_Policy_Cat']:\n",
    "      df[col]=  df[col].astype('str') \n",
    "      df[col]= le.fit_transform(df[col])\n",
    "\n",
    "    return df   "
   ]
  },
  {
   "cell_type": "code",
   "execution_count": 8,
   "id": "minus-muslim",
   "metadata": {
    "id": "minus-muslim"
   },
   "outputs": [],
   "source": [
    "def final_pipe_line(df):\n",
    "    \"\"\"FINAL PIPE LINE\"\"\"\n",
    "    df_final=missing_value(df)\n",
    "    df_final=feature_engineering(df)\n",
    "    df_final=label_encoder(df)\n",
    "    return df_final"
   ]
  },
  {
   "cell_type": "code",
   "execution_count": 10,
   "id": "acoustic-exclusive",
   "metadata": {
    "id": "acoustic-exclusive"
   },
   "outputs": [],
   "source": [
    "test_data_set=pd.read_csv(\"/content/test_YCcRUnU.csv\")\n",
    "test_data_set.drop(['ID'],axis=1,inplace=True)"
   ]
  },
  {
   "cell_type": "code",
   "execution_count": 11,
   "id": "conscious-protocol",
   "metadata": {
    "id": "conscious-protocol"
   },
   "outputs": [],
   "source": [
    "test_data_set=final_pipe_line(test_data_set)"
   ]
  },
  {
   "cell_type": "code",
   "execution_count": null,
   "id": "shared-netscape",
   "metadata": {
    "id": "shared-netscape"
   },
   "outputs": [],
   "source": [
    "model=joblib.load('xgb.pkl')#loading the pretrained model\n",
    "submission=model.predict_proba(test_data_set)"
   ]
  }
 ],
 "metadata": {
  "colab": {
   "name": "Final pipe line.ipynb",
   "provenance": []
  },
  "kernelspec": {
   "display_name": "Python 3",
   "language": "python",
   "name": "python3"
  },
  "language_info": {
   "codemirror_mode": {
    "name": "ipython",
    "version": 3
   },
   "file_extension": ".py",
   "mimetype": "text/x-python",
   "name": "python",
   "nbconvert_exporter": "python",
   "pygments_lexer": "ipython3",
   "version": "3.6.5"
  }
 },
 "nbformat": 4,
 "nbformat_minor": 5
}
